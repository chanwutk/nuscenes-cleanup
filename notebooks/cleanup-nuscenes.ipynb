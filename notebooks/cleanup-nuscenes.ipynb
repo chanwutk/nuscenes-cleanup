{
 "cells": [
  {
   "cell_type": "code",
   "execution_count": null,
   "id": "c516bfa4-d19b-4652-848b-08c1e7e856fd",
   "metadata": {},
   "outputs": [],
   "source": [
    "import json\n",
    "import os"
   ]
  },
  {
   "cell_type": "code",
   "execution_count": null,
   "id": "cd6d2312-7019-428b-aa5e-7f1825d4ce81",
   "metadata": {},
   "outputs": [],
   "source": [
    "data_dir = './data/sets/nuscenes/v1.0-mini/'"
   ]
  },
  {
   "cell_type": "code",
   "execution_count": null,
   "id": "b9c57815-31e3-454a-9fee-cd0ae1722b51",
   "metadata": {},
   "outputs": [],
   "source": [
    "[*os.walk(data_dir)]"
   ]
  },
  {
   "cell_type": "code",
   "execution_count": null,
   "id": "dc2bcf6a-db3a-4c6e-b404-23e6a6285dd8",
   "metadata": {},
   "outputs": [],
   "source": [
    "data = {}\n",
    "for _, dirs, files in os.walk(data_dir):\n",
    "    for file in files:\n",
    "        with open(os.path.join(data_dir, file), 'r') as f:\n",
    "            data[file[:-len('.json')]] = json.load(f)"
   ]
  },
  {
   "cell_type": "code",
   "execution_count": null,
   "id": "7f1b3cd2-5515-4e31-8145-e09a1318469d",
   "metadata": {
    "collapsed": true,
    "jupyter": {
     "outputs_hidden": true
    },
    "tags": []
   },
   "outputs": [],
   "source": [
    "data"
   ]
  },
  {
   "cell_type": "code",
   "execution_count": null,
   "id": "f02896f4-a504-4c7c-9874-9d82357377ca",
   "metadata": {},
   "outputs": [],
   "source": [
    "data.keys()"
   ]
  },
  {
   "cell_type": "code",
   "execution_count": null,
   "id": "44f569ca-2a9f-42c9-845a-cabba64d776c",
   "metadata": {},
   "outputs": [],
   "source": [
    "sample_tokens = {}\n",
    "for sd in data['sample_data']:\n",
    "    sample_token = sd['sample_token']\n",
    "    if sample_token not in sample_tokens:\n",
    "        sample_tokens[sample_token] = []\n",
    "    sample_tokens[sample_token].append(sd)"
   ]
  },
  {
   "cell_type": "code",
   "execution_count": null,
   "id": "34f80369-4464-4e0b-aeb7-cf2a33dbd286",
   "metadata": {},
   "outputs": [],
   "source": [
    "first = sorted([*sample_tokens.values()][0], key=lambda x : x['timestamp'])\n",
    "first[:5]"
   ]
  },
  {
   "cell_type": "code",
   "execution_count": null,
   "id": "4635f292-af06-4ffd-9078-ad62a9527fe4",
   "metadata": {},
   "outputs": [],
   "source": [
    "token = first[0]['sample_token']\n",
    "token"
   ]
  },
  {
   "cell_type": "code",
   "execution_count": null,
   "id": "3e57d096-6cd2-45b2-9e16-d7b48c49cc28",
   "metadata": {
    "tags": []
   },
   "outputs": [],
   "source": [
    "annotation = [*filter(lambda x:x['sample_token'] == token, data['sample_annotation'])]\n",
    "annotation[:5]"
   ]
  },
  {
   "cell_type": "code",
   "execution_count": null,
   "id": "6350f640-360e-4d03-bd80-6976ce36dcb8",
   "metadata": {},
   "outputs": [],
   "source": [
    "_annotation = {}\n",
    "_a = {}\n",
    "for a in annotation:\n",
    "    _a[a['token']] = a\n",
    "for a in annotation:\n",
    "    if a['next'] not in _a:\n",
    "        print(a['next'])\n",
    "    else:\n",
    "        print(\"-------------\")\n",
    "for a in annotation:\n",
    "    if a['prev'] == '':\n",
    "        c = a\n",
    "        chain = []\n",
    "        while c['next'] != '':\n",
    "            chain.append(c)\n",
    "            print(c['next'])\n",
    "            c = _a[c['next']]"
   ]
  },
  {
   "cell_type": "code",
   "execution_count": null,
   "id": "45c53995-a5c8-485a-b5d3-f0468520643a",
   "metadata": {},
   "outputs": [],
   "source": [
    "data['calibrated_sensor']"
   ]
  },
  {
   "cell_type": "code",
   "execution_count": null,
   "id": "2526a3a7-cefd-4e75-a212-3db624b16171",
   "metadata": {},
   "outputs": [],
   "source": []
  }
 ],
 "metadata": {
  "kernelspec": {
   "display_name": "",
   "language": "python",
   "name": ""
  },
  "language_info": {
   "codemirror_mode": {
    "name": "ipython",
    "version": 3
   },
   "file_extension": ".py",
   "mimetype": "text/x-python",
   "name": "python",
   "nbconvert_exporter": "python",
   "pygments_lexer": "ipython3",
   "version": "3.8.12"
  }
 },
 "nbformat": 4,
 "nbformat_minor": 5
}

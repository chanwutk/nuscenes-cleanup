{
 "cells": [
  {
   "cell_type": "code",
   "execution_count": null,
   "id": "17c25cee-c9e4-4959-89dd-ba12ffe95c6b",
   "metadata": {},
   "outputs": [],
   "source": [
    "%cd .."
   ]
  },
  {
   "cell_type": "code",
   "execution_count": null,
   "id": "c516bfa4-d19b-4652-848b-08c1e7e856fd",
   "metadata": {},
   "outputs": [],
   "source": [
    "import json\n",
    "import os\n",
    "from nuscenes_types import from_dicts, SampleData, Scene, Sample, SampleAnnotation\n",
    "from cleanup_types import InterpolatedAnnotation, SampleDataWithAnnotations, SceneWithFrames\n",
    "from typing import Dict, List, TypeVar"
   ]
  },
  {
   "cell_type": "code",
   "execution_count": null,
   "id": "cd6d2312-7019-428b-aa5e-7f1825d4ce81",
   "metadata": {},
   "outputs": [],
   "source": [
    "data_dir = 'data/sets/nuscenes/v1.0-mini/'"
   ]
  },
  {
   "cell_type": "code",
   "execution_count": null,
   "id": "b9c57815-31e3-454a-9fee-cd0ae1722b51",
   "metadata": {},
   "outputs": [],
   "source": [
    "[*os.walk(data_dir)]"
   ]
  },
  {
   "cell_type": "code",
   "execution_count": null,
   "id": "653e2b8c-d23e-4342-8c80-9d6b4a049190",
   "metadata": {},
   "outputs": [],
   "source": [
    "T = TypeVar('T')\n",
    "def get_index(data: T) -> Dict[str, T]:\n",
    "    return {\n",
    "        datum.token: datum\n",
    "        for datum in data\n",
    "    }"
   ]
  },
  {
   "cell_type": "code",
   "execution_count": null,
   "id": "a340fb72-c9cc-426b-a797-d51e25aaf7ab",
   "metadata": {},
   "outputs": [],
   "source": [
    "def read_data(data_dir: str) -> dict:\n",
    "    data = {}\n",
    "    for _, dirs, files in os.walk(data_dir):\n",
    "        for file in files:\n",
    "            with open(os.path.join(data_dir, file), 'r') as f:\n",
    "                name = file[:-len('.json')]\n",
    "                from_dict = from_dicts[name]\n",
    "                content = json.load(f)\n",
    "                data[name] = [from_dict(d) for d in content]\n",
    "    sensor_index = get_index(data['sensor'])\n",
    "    calibrated_sensor_index = get_index(data['calibrated_sensor'])\n",
    "    data['sample_images'] = [*filter(\n",
    "        lambda d: sensor_index[calibrated_sensor_index[d.calibrated_sensor_token].sensor_token].modality == 'camera',\n",
    "        data['sample_data']\n",
    "    )]\n",
    "    return data"
   ]
  },
  {
   "cell_type": "code",
   "execution_count": null,
   "id": "dc2bcf6a-db3a-4c6e-b404-23e6a6285dd8",
   "metadata": {},
   "outputs": [],
   "source": [
    "data = read_data(data_dir)"
   ]
  },
  {
   "cell_type": "code",
   "execution_count": null,
   "id": "f61e4461-7f97-4cac-9829-9ec855745a45",
   "metadata": {
    "tags": []
   },
   "outputs": [],
   "source": [
    "# data['calibrated_sensor']"
   ]
  },
  {
   "cell_type": "code",
   "execution_count": null,
   "id": "e144d2f9-34b9-4716-b5e0-331643142a9b",
   "metadata": {},
   "outputs": [],
   "source": [
    "data['visibility']"
   ]
  },
  {
   "cell_type": "code",
   "execution_count": null,
   "id": "70fd7a2b-b117-4fe4-870a-efa3eb606be5",
   "metadata": {},
   "outputs": [],
   "source": [
    "data['sensor']"
   ]
  },
  {
   "cell_type": "code",
   "execution_count": null,
   "id": "7f1b3cd2-5515-4e31-8145-e09a1318469d",
   "metadata": {
    "tags": []
   },
   "outputs": [],
   "source": [
    "sample_data = data['sample_images']"
   ]
  },
  {
   "cell_type": "code",
   "execution_count": null,
   "id": "152feccc-be0e-4037-9326-c690726bdff1",
   "metadata": {},
   "outputs": [],
   "source": [
    "def get_sample_data_index(sample_data: \"SampleData\") -> Dict[str, List[\"SampleData\"]]:\n",
    "    sample_data_index = {}\n",
    "    for s in sample_data:\n",
    "        if s.is_key_frame:\n",
    "            sample_token = s.sample_token\n",
    "            if sample_token not in sample_data_index:\n",
    "                sample_data_index[sample_token] = []\n",
    "            sample_data_index[sample_token].append(s)\n",
    "    return sample_data_index"
   ]
  },
  {
   "cell_type": "code",
   "execution_count": null,
   "id": "697150d3-4cc4-47df-972b-fb8858f809b6",
   "metadata": {},
   "outputs": [],
   "source": [
    "def add_annotation(sample_data: List[\"SampleData\"], annotations: List[\"SampleAnnotation\"]) -> \"SampleDataWithAnnotations\":\n",
    "    with_annotation = [SampleDataWithAnnotations.from_sample_data(sd) for sd in sample_data]\n",
    "    sample_data_index = get_sample_data_index(with_annotation)\n",
    "    \n",
    "    for a in annotations:\n",
    "        sample_token = a.sample_token\n",
    "        sd = sample_data_index[sample_token]\n",
    "        for s in sd:\n",
    "            s.annotations.append(a)\n",
    "    return with_annotation"
   ]
  },
  {
   "cell_type": "code",
   "execution_count": null,
   "id": "f02896f4-a504-4c7c-9874-9d82357377ca",
   "metadata": {},
   "outputs": [],
   "source": [
    "sample_data_with_annotation = add_annotation(sample_data, data['sample_annotation'])"
   ]
  },
  {
   "cell_type": "code",
   "execution_count": null,
   "id": "5b51fc89-dacc-4813-9427-3a0c1c67d550",
   "metadata": {},
   "outputs": [],
   "source": [
    "[s for s in sample_data_with_annotation if s.is_key_frame][0].annotations[0]"
   ]
  },
  {
   "cell_type": "code",
   "execution_count": null,
   "id": "0fdf43ac-cef2-4895-9d0d-aafa378b7c24",
   "metadata": {},
   "outputs": [],
   "source": [
    "def annotation_token(a: \"SampleAnnotation\") -> str:\n",
    "    return a.token"
   ]
  },
  {
   "cell_type": "code",
   "execution_count": null,
   "id": "dacdaa4c-bf12-49bb-b607-25f8a2f10c73",
   "metadata": {},
   "outputs": [],
   "source": [
    "import numpy as np\n",
    "def interpolate_array(start: \"SampleAnnotation\", end: \"SampleAnnotation\", field: str, weight: float):\n",
    "    return ((np.array(getattr(start, field)) + np.array(getattr(end, field))) * weight).tolist()"
   ]
  },
  {
   "cell_type": "code",
   "execution_count": null,
   "id": "60b4d658-3cd7-4d56-9c37-5bf6790c6b2e",
   "metadata": {},
   "outputs": [],
   "source": [
    "def stack(start: \"SampleAnnotation\", end: \"SampleAnnotation\", field: str):\n",
    "    return [getattr(start, field), getattr(end, field)]"
   ]
  },
  {
   "cell_type": "code",
   "execution_count": null,
   "id": "acf622e6-398f-4bed-94ee-a2196aa2fa21",
   "metadata": {},
   "outputs": [],
   "source": [
    "def interpolate_annotations(start: List[\"SampleAnnotation\"], end: List[\"SampleAnnotation\"], weight: float) -> List[\"InterpolatedAnnotation\"]:\n",
    "    if len(start) == 0 or len(end) == 0:\n",
    "        return []\n",
    "\n",
    "    start = sorted(start, key=annotation_token)\n",
    "    end = sorted(end, key=annotation_token)\n",
    "    interpolated: InterpolatedAnnotation = []\n",
    "    i = 0\n",
    "    j = 0\n",
    "    while i < len(start) and j < len(end):\n",
    "        s = start[i]\n",
    "        e = end[j]\n",
    "        if start[i].instance_token == end[j].instance_token:\n",
    "            interpolated.append(InterpolatedAnnotation(\n",
    "                interpolated_weight=weight,\n",
    "                instance_token=s.instance_token,\n",
    "                attribute_tokens=[*set([*s.attribute_tokens, *e.attribute_tokens])],\n",
    "                **{\n",
    "                    field: interpolate_array(s, e, field, weight)\n",
    "                    for field in ['translation', 'size', 'rotation']\n",
    "                },\n",
    "                **{\n",
    "                    field + '2': stack(s, e, field)\n",
    "                    for field in ['token', 'sample_token', 'visibility_token', 'num_lidar_pts', 'num_radar_pts']\n",
    "                }\n",
    "            ))\n",
    "            i += 1\n",
    "            j += 1\n",
    "        elif start[i].instance_token > end[j].instance_token:\n",
    "            j += 1\n",
    "        elif start[i].instance_token < end[j].instance_token:\n",
    "            i += 1\n",
    "    return interpolated"
   ]
  },
  {
   "cell_type": "code",
   "execution_count": null,
   "id": "d4dc7558-9a43-433a-860e-b6d779afec44",
   "metadata": {},
   "outputs": [],
   "source": [
    "CAMERA_SUFFIX = [\n",
    "    'CAM_FRONT',\n",
    "    'CAM_BACK',\n",
    "    'CAM_BACK_LEFT',\n",
    "    'CAM_FRONT_LEFT',\n",
    "    'CAM_FRONT_RIGHT',\n",
    "    'CAM_BACK_RIGHT'\n",
    "]\n",
    "\n",
    "def join_and_interpolate(\n",
    "    scenes: List[\"Scene\"],\n",
    "    samples: List[\"Sample\"],\n",
    "    sample_data: List[\"SampleData\"],\n",
    "    sample_annotations: List[\"SampleAnnotation\"]\n",
    ") -> List[\"SceneWithFrames\"]:\n",
    "    scenes_with_frames: List[\"SceneWithFrames\"] = []\n",
    "    for s in data['scene']:\n",
    "        for c in CAMERA_SUFFIX:\n",
    "            scene = SceneWithFrames.from_scene(s)\n",
    "            scene.token = scene.token + \"-\" + c\n",
    "            scene.name = scene.name + \"-\" + c\n",
    "            scenes_with_frames.append(scene)\n",
    "            \n",
    "    # scenes_with_cameras = [*map(lambda x: {**x, 'cameras': {}}, data['scene'])]\n",
    "    scene_index = get_index(scenes_with_frames)\n",
    "    # print(scene_index)\n",
    "    sample_index = get_index(samples)\n",
    "    \n",
    "    sample_data_with_annotations = add_annotation(sample_data, sample_annotations)\n",
    "\n",
    "    for s in sample_data_with_annotations:\n",
    "        sample_token = s.sample_token\n",
    "        camera_name = s.filename.split('/')[1]\n",
    "        scene_token = sample_index[sample_token].scene_token\n",
    "        scene = scene_index[scene_token + '-' + camera_name]\n",
    "        frames = scene.frames\n",
    "        frames.append(s)\n",
    "\n",
    "    for scene in scenes_with_frames:\n",
    "        frames = sorted(scene.frames, key=lambda x: x.timestamp)\n",
    "        start_frame = None\n",
    "        interpolated_frames = []\n",
    "        for frame in frames:\n",
    "            interpolated_frames.append(frame)\n",
    "            if frame.is_key_frame:\n",
    "                if start_frame is not None:\n",
    "                    start_annotations = start_frame.annotations\n",
    "                    end_annotations = interpolated_frames[-1].annotations\n",
    "                    start_time = start_frame.timestamp\n",
    "                    end_time = interpolated_frames[-1].timestamp\n",
    "                    time_range = end_time - start_time\n",
    "                    for f in interpolated_frames[:-1]:\n",
    "                        assert len(f.annotations) == 0\n",
    "                        weight = (f.timestamp - start_time) / time_range\n",
    "                        f.annotations = interpolate_annotations(\n",
    "                            start_annotations,\n",
    "                            end_annotations,\n",
    "                            weight\n",
    "                        )\n",
    "                interpolated_frames = []\n",
    "                start_frame = frame\n",
    "\n",
    "    return scenes_with_frames"
   ]
  },
  {
   "cell_type": "code",
   "execution_count": null,
   "id": "433c9924-a880-4e5a-9b41-bab617737742",
   "metadata": {},
   "outputs": [],
   "source": [
    "interpolated_sample_data = join_and_interpolate(data['scene'], data['sample'], data['sample_images'], data['sample_annotation'])"
   ]
  },
  {
   "cell_type": "code",
   "execution_count": null,
   "id": "6708ee4e-8155-42bf-aa84-ad3f34c4789e",
   "metadata": {
    "collapsed": true,
    "jupyter": {
     "outputs_hidden": true
    },
    "tags": []
   },
   "outputs": [],
   "source": [
    "interpolated_sample_data[0]"
   ]
  },
  {
   "cell_type": "code",
   "execution_count": null,
   "id": "44f569ca-2a9f-42c9-845a-cabba64d776c",
   "metadata": {},
   "outputs": [],
   "source": [
    "def camera_translation_rotation(ego_pose: dict, calibrated_sensor: dict):\n",
    "    # TODO: implement the transformation\n",
    "    return ego_pose['translation'], ego_pose['rotation']"
   ]
  },
  {
   "cell_type": "code",
   "execution_count": null,
   "id": "34f80369-4464-4e0b-aeb7-cf2a33dbd286",
   "metadata": {},
   "outputs": [],
   "source": []
  },
  {
   "cell_type": "code",
   "execution_count": null,
   "id": "4635f292-af06-4ffd-9078-ad62a9527fe4",
   "metadata": {},
   "outputs": [],
   "source": []
  },
  {
   "cell_type": "code",
   "execution_count": null,
   "id": "3e57d096-6cd2-45b2-9e16-d7b48c49cc28",
   "metadata": {
    "tags": []
   },
   "outputs": [],
   "source": []
  },
  {
   "cell_type": "code",
   "execution_count": null,
   "id": "6350f640-360e-4d03-bd80-6976ce36dcb8",
   "metadata": {},
   "outputs": [],
   "source": []
  },
  {
   "cell_type": "code",
   "execution_count": null,
   "id": "45c53995-a5c8-485a-b5d3-f0468520643a",
   "metadata": {},
   "outputs": [],
   "source": []
  },
  {
   "cell_type": "code",
   "execution_count": null,
   "id": "2526a3a7-cefd-4e75-a212-3db624b16171",
   "metadata": {},
   "outputs": [],
   "source": []
  }
 ],
 "metadata": {
  "kernelspec": {
   "display_name": "",
   "language": "python",
   "name": ""
  },
  "language_info": {
   "codemirror_mode": {
    "name": "ipython",
    "version": 3
   },
   "file_extension": ".py",
   "mimetype": "text/x-python",
   "name": "python",
   "nbconvert_exporter": "python",
   "pygments_lexer": "ipython3",
   "version": "3.8.12"
  }
 },
 "nbformat": 4,
 "nbformat_minor": 5
}
